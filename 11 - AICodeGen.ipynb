{
 "cells": [
  {
   "cell_type": "markdown",
   "id": "b3e9706a",
   "metadata": {},
   "source": [
    "# AI Code Generation"
   ]
  },
  {
   "cell_type": "code",
   "execution_count": 1,
   "id": "f4a1392e",
   "metadata": {},
   "outputs": [
    {
     "name": "stdout",
     "output_type": "stream",
     "text": [
      "Enter a color: red\n",
      "Generated tweet:\n",
      "Red is the color of passion - ignite your inner fire and chase your dreams! #PowerofRed #MotivationMonday #GoRed\n"
     ]
    }
   ],
   "source": [
    "import openai\n",
    "\n",
    "# Set up your OpenAI API credentials\n",
    "openai.api_key = ''\n",
    "\n",
    "def generate_tweet(color):\n",
    "    # Define the prompt for the model\n",
    "    prompt = f\"Create an interesting tweet based on the color {color}.\"\n",
    "\n",
    "    # Generate the tweet using OpenAI's ChatGPT model\n",
    "    response = openai.Completion.create(\n",
    "        engine='text-davinci-003',\n",
    "        prompt=prompt,\n",
    "        max_tokens=100,\n",
    "        n=1,\n",
    "        stop=None,\n",
    "        temperature=0.7\n",
    "    )\n",
    "\n",
    "    # Extract the generated tweet from the API response\n",
    "    tweet = response.choices[0].text.strip()\n",
    "\n",
    "    return tweet\n",
    "\n",
    "# Get user input for the color\n",
    "color = input(\"Enter a color: \")\n",
    "\n",
    "# Generate the tweet based on the provided color\n",
    "tweet = generate_tweet(color)\n",
    "\n",
    "# Print the generated tweet\n",
    "print(\"Generated tweet:\")\n",
    "print(tweet)\n"
   ]
  },
  {
   "cell_type": "code",
   "execution_count": null,
   "id": "13530047",
   "metadata": {},
   "outputs": [],
   "source": []
  }
 ],
 "metadata": {
  "kernelspec": {
   "display_name": "Python 3 (ipykernel)",
   "language": "python",
   "name": "python3"
  },
  "language_info": {
   "codemirror_mode": {
    "name": "ipython",
    "version": 3
   },
   "file_extension": ".py",
   "mimetype": "text/x-python",
   "name": "python",
   "nbconvert_exporter": "python",
   "pygments_lexer": "ipython3",
   "version": "3.11.3"
  }
 },
 "nbformat": 4,
 "nbformat_minor": 5
}
