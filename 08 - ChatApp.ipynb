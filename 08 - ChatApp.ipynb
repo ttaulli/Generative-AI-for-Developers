{
 "cells": [
  {
   "cell_type": "markdown",
   "id": "2f4a43e8",
   "metadata": {},
   "source": [
    "# Chat App Demo"
   ]
  },
  {
   "cell_type": "code",
   "execution_count": null,
   "id": "40aeb40f",
   "metadata": {},
   "outputs": [],
   "source": [
    "import openai\n",
    "import os"
   ]
  },
  {
   "cell_type": "code",
   "execution_count": null,
   "id": "6486469c",
   "metadata": {},
   "outputs": [],
   "source": [
    "os.environ['OPENAI_API_KEY'] = ''"
   ]
  },
  {
   "cell_type": "code",
   "execution_count": null,
   "id": "849e2e8b",
   "metadata": {},
   "outputs": [],
   "source": [
    "openai.api_key = os.getenv('OPENAI_API_KEY')"
   ]
  },
  {
   "cell_type": "code",
   "execution_count": null,
   "id": "e74dc552",
   "metadata": {},
   "outputs": [],
   "source": [
    "def chat_system(prompt):\n",
    "    messages = [{\"role\": \"system\", \"content\": \"You are a personal assistant. Your tone is helpful.\"},\n",
    "        {\"role\": \"user\", \"content\": prompt}]\n",
    "    response = openai.ChatCompletion.create(\n",
    "        model=\"gpt-3.5-turbo\",\n",
    "        messages=messages\n",
    "    )\n",
    "    return response.choices[0]['message']['content']\n",
    "\n",
    "print(\"This is your virtual assistant, Ada.  How can I help?\\n\")\n",
    "print(\"Type 'exit' to end the chat.\\n\")\n",
    "\n",
    "user_input = ''\n",
    "\n",
    "while user_input != 'exit':\n",
    "    user_input = input(\"You: \")\n",
    "    response = chat_system(user_input)\n",
    "    print(\"Ada:\", response)\n",
    "    print(response)\n"
   ]
  },
  {
   "cell_type": "code",
   "execution_count": null,
   "id": "0da9bced",
   "metadata": {},
   "outputs": [],
   "source": [
    "def chat_system(messages):\n",
    "    response = openai.ChatCompletion.create(\n",
    "        model=\"gpt-3.5-turbo\",\n",
    "        messages=messages\n",
    "    )\n",
    "    return response.choices[0]['message']['content']\n",
    "\n",
    "print(\"This is your virtual assistant, Ada.  How can I help?\\n\")\n",
    "print(\"Type 'exit' to end the chat.\\n\")\n",
    "\n",
    "message_history = []\n",
    "message_history.append({\n",
    "    'role': 'system', 'content': 'You are a personal assistant. Your tone is helpful. The response must be consice and not exceed one sentence'\n",
    "})\n",
    "\n",
    "\n",
    "user_input = ''\n",
    "\n",
    "while user_input != 'exit':\n",
    "    user_input = input(\"You: \")\n",
    "    message_history.append({\"role\": \"user\", \"content\": user_input})\n",
    "    response = chat_system(message_history)\n",
    "    print(\"Ada:\", response)\n",
    "    print(message_history)\n",
    "    \n"
   ]
  },
  {
   "cell_type": "code",
   "execution_count": null,
   "id": "b6ad6b43",
   "metadata": {},
   "outputs": [],
   "source": []
  }
 ],
 "metadata": {
  "kernelspec": {
   "display_name": "Python 3 (ipykernel)",
   "language": "python",
   "name": "python3"
  },
  "language_info": {
   "codemirror_mode": {
    "name": "ipython",
    "version": 3
   },
   "file_extension": ".py",
   "mimetype": "text/x-python",
   "name": "python",
   "nbconvert_exporter": "python",
   "pygments_lexer": "ipython3",
   "version": "3.11.3"
  }
 },
 "nbformat": 4,
 "nbformat_minor": 5
}
