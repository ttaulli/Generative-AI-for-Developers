{
 "cells": [
  {
   "cell_type": "markdown",
   "id": "2f4a43e8",
   "metadata": {},
   "source": [
    "# Chat App Demo"
   ]
  },
  {
   "cell_type": "code",
   "execution_count": 2,
   "id": "40aeb40f",
   "metadata": {},
   "outputs": [],
   "source": [
    "import openai\n",
    "import os"
   ]
  },
  {
   "cell_type": "code",
   "execution_count": 3,
   "id": "6486469c",
   "metadata": {},
   "outputs": [],
   "source": [
    "os.environ['OPENAI_API_KEY'] = ''"
   ]
  },
  {
   "cell_type": "code",
   "execution_count": 4,
   "id": "849e2e8b",
   "metadata": {},
   "outputs": [],
   "source": [
    "openai.api_key = os.getenv('OPENAI_API_KEY')"
   ]
  },
  {
   "cell_type": "code",
   "execution_count": null,
   "id": "e74dc552",
   "metadata": {},
   "outputs": [
    {
     "name": "stdout",
     "output_type": "stream",
     "text": [
      "This is your virtual assistant, Ada.  How can I help?\n",
      "\n",
      "Type 'exit' to end the chat.\n",
      "\n",
      "You: What is artificial intelligence?\n",
      "Ada: Artificial intelligence refers to the development of computer systems that are capable of performing tasks that typically require human intelligence, such as decision-making, problem-solving, understanding natural language, and recognizing patterns. AI technologies are designed to learn from data and improve their performance over time without explicit programming. Some common examples of AI include chatbots, self-driving cars, facial recognition software, and voice-activated virtual assistants.\n",
      "Artificial intelligence refers to the development of computer systems that are capable of performing tasks that typically require human intelligence, such as decision-making, problem-solving, understanding natural language, and recognizing patterns. AI technologies are designed to learn from data and improve their performance over time without explicit programming. Some common examples of AI include chatbots, self-driving cars, facial recognition software, and voice-activated virtual assistants.\n",
      "You: what is it used for?\n",
      "Ada: As a personal assistant, I can assist you in organizing your schedule, reminding you of important appointments and tasks, making travel arrangements, answering your emails and managing your personal and professional projects. How can I assist you today?\n",
      "As a personal assistant, I can assist you in organizing your schedule, reminding you of important appointments and tasks, making travel arrangements, answering your emails and managing your personal and professional projects. How can I assist you today?\n"
     ]
    }
   ],
   "source": [
    "def chat_system(prompt):\n",
    "    messages = [{\"role\": \"system\", \"content\": \"You are a personal assistant. Your tone is helpful.\"},\n",
    "        {\"role\": \"user\", \"content\": prompt}]\n",
    "    response = openai.ChatCompletion.create(\n",
    "        model=\"gpt-3.5-turbo\",\n",
    "        messages=messages\n",
    "    )\n",
    "    return response.choices[0]['message']['content']\n",
    "\n",
    "print(\"This is your virtual assistant, Ada.  How can I help?\\n\")\n",
    "print(\"Type 'exit' to end the chat.\\n\")\n",
    "\n",
    "user_input = ''\n",
    "\n",
    "while user_input != 'exit':\n",
    "    user_input = input(\"You: \")\n",
    "    response = chat_system(user_input)\n",
    "    print(\"Ada:\", response)\n",
    "    print(response)\n"
   ]
  },
  {
   "cell_type": "code",
   "execution_count": null,
   "id": "0da9bced",
   "metadata": {},
   "outputs": [
    {
     "name": "stdout",
     "output_type": "stream",
     "text": [
      "This is your virtual assistant, Ada.  How can I help?\n",
      "\n",
      "Type 'exit' to end the chat.\n",
      "\n",
      "You: What is artificial intelligence?\n",
      "Ada: Artificial intelligence (AI) refers to the simulation of human intelligence in machines that are programmed to think and learn like humans.\n",
      "[{'role': 'system', 'content': 'You are a personal assistant. Your tone is helpful. The response must be consice and not exceed one sentence'}, {'role': 'user', 'content': 'What is artificial intelligence?'}]\n",
      "You: What is it used for?\n",
      "Ada: Artificial intelligence is used for a variety of tasks such as predicting outcomes, recognizing patterns, and automating repetitive tasks, among others.\n",
      "[{'role': 'system', 'content': 'You are a personal assistant. Your tone is helpful. The response must be consice and not exceed one sentence'}, {'role': 'user', 'content': 'What is artificial intelligence?'}, {'role': 'user', 'content': 'What is it used for?'}]\n"
     ]
    }
   ],
   "source": [
    "def chat_system(messages):\n",
    "    response = openai.ChatCompletion.create(\n",
    "        model=\"gpt-3.5-turbo\",\n",
    "        messages=messages\n",
    "    )\n",
    "    return response.choices[0]['message']['content']\n",
    "\n",
    "print(\"This is your virtual assistant, Ada.  How can I help?\\n\")\n",
    "print(\"Type 'exit' to end the chat.\\n\")\n",
    "\n",
    "message_history = []\n",
    "message_history.append({\n",
    "    'role': 'system', 'content': 'You are a personal assistant. Your tone is helpful. The response must be consice and not exceed one sentence'\n",
    "})\n",
    "\n",
    "\n",
    "user_input = ''\n",
    "\n",
    "while user_input != 'exit':\n",
    "    user_input = input(\"You: \")\n",
    "    message_history.append({\"role\": \"user\", \"content\": user_input})\n",
    "    response = chat_system(message_history)\n",
    "    print(\"Ada:\", response)\n",
    "    print(message_history)\n",
    "    \n"
   ]
  },
  {
   "cell_type": "code",
   "execution_count": null,
   "id": "b6ad6b43",
   "metadata": {},
   "outputs": [],
   "source": []
  }
 ],
 "metadata": {
  "kernelspec": {
   "display_name": "Python 3 (ipykernel)",
   "language": "python",
   "name": "python3"
  },
  "language_info": {
   "codemirror_mode": {
    "name": "ipython",
    "version": 3
   },
   "file_extension": ".py",
   "mimetype": "text/x-python",
   "name": "python",
   "nbconvert_exporter": "python",
   "pygments_lexer": "ipython3",
   "version": "3.11.3"
  }
 },
 "nbformat": 4,
 "nbformat_minor": 5
}
