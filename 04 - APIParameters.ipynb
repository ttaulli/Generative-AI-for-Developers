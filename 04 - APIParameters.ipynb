{
 "cells": [
  {
   "cell_type": "markdown",
   "id": "fb7b68cb",
   "metadata": {},
   "source": [
    "# OpenAI API Parameters"
   ]
  },
  {
   "cell_type": "code",
   "execution_count": null,
   "id": "10b33551",
   "metadata": {},
   "outputs": [],
   "source": [
    "import openai\n",
    "import os"
   ]
  },
  {
   "cell_type": "code",
   "execution_count": null,
   "id": "76ee9f24",
   "metadata": {},
   "outputs": [],
   "source": [
    "os.environ['OPENAI_API_KEY'] = ''"
   ]
  },
  {
   "cell_type": "code",
   "execution_count": null,
   "id": "1546c603",
   "metadata": {},
   "outputs": [],
   "source": [
    "openai.api_key = os.getenv('OPENAI_API_KEY')"
   ]
  },
  {
   "cell_type": "code",
   "execution_count": null,
   "id": "143da011",
   "metadata": {},
   "outputs": [],
   "source": [
    "response = openai.ChatCompletion.create(\n",
    "model=\"gpt-3.5-turbo\",\n",
    "messages=[\n",
    "{\"role\": \"system\", \"content\": \"You are a great poet.\"},\n",
    "{\"role\": \"user\", \"content\": \"Write a poem about your pet dog, Joe\"},\n",
    "],\n",
    "max_tokens=100\n",
    ")"
   ]
  },
  {
   "cell_type": "code",
   "execution_count": null,
   "id": "ef653d72",
   "metadata": {},
   "outputs": [],
   "source": [
    "response"
   ]
  },
  {
   "cell_type": "code",
   "execution_count": null,
   "id": "5a94705d",
   "metadata": {},
   "outputs": [],
   "source": [
    "response = openai.ChatCompletion.create(\n",
    "model=\"gpt-3.5-turbo\",\n",
    "messages=[\n",
    "{\"role\": \"system\", \"content\": \"You are an expert in British literature.\"},\n",
    "{\"role\": \"user\", \"content\": \"List William Shakespeare's top 5 plays\"},\n",
    "],\n",
    "stop=\"6.\"\n",
    ")"
   ]
  },
  {
   "cell_type": "code",
   "execution_count": null,
   "id": "1c091dbd",
   "metadata": {},
   "outputs": [],
   "source": [
    "response"
   ]
  },
  {
   "cell_type": "code",
   "execution_count": null,
   "id": "448a60e2",
   "metadata": {},
   "outputs": [],
   "source": [
    "# stop=[\".6\", \"Lear\"]"
   ]
  },
  {
   "cell_type": "code",
   "execution_count": null,
   "id": "323a42a8",
   "metadata": {},
   "outputs": [],
   "source": [
    "response = openai.ChatCompletion.create(\n",
    "model=\"gpt-3.5-turbo\",\n",
    "messages=[\n",
    "{\"role\": \"system\", \"content\": \"You are an expert in social media.\"},\n",
    "{\"role\": \"user\", \"content\": \"Create a funny tweet\"},\n",
    "],\n",
    "n=3\n",
    ")"
   ]
  },
  {
   "cell_type": "code",
   "execution_count": null,
   "id": "14f0c418",
   "metadata": {},
   "outputs": [],
   "source": [
    "response"
   ]
  },
  {
   "cell_type": "code",
   "execution_count": null,
   "id": "9dbb3b20",
   "metadata": {},
   "outputs": [],
   "source": [
    "response = openai.Completion.create(\n",
    "   model=\"text-davinci-003\",\n",
    "   prompt=\"What is the color of a football? \",\n",
    "   echo=True\n",
    ")"
   ]
  },
  {
   "cell_type": "code",
   "execution_count": null,
   "id": "cbc5e2e9",
   "metadata": {},
   "outputs": [],
   "source": [
    "response"
   ]
  },
  {
   "cell_type": "code",
   "execution_count": null,
   "id": "7e6798a0",
   "metadata": {},
   "outputs": [],
   "source": [
    "response = openai.ChatCompletion.create(\n",
    "model=\"gpt-3.5-turbo\",\n",
    "messages=[\n",
    "{\"role\": \"system\", \"content\": \"You are top comedian.\"},\n",
    "{\"role\": \"user\", \"content\": \"Write a one liner about a dentist\"},\n",
    "],\n",
    "temperature=0\n",
    ")"
   ]
  },
  {
   "cell_type": "code",
   "execution_count": null,
   "id": "1f737a4b",
   "metadata": {},
   "outputs": [],
   "source": [
    "response"
   ]
  },
  {
   "cell_type": "code",
   "execution_count": null,
   "id": "11287fb1",
   "metadata": {},
   "outputs": [],
   "source": [
    "response = openai.ChatCompletion.create(\n",
    "model=\"gpt-3.5-turbo\",\n",
    "messages=[\n",
    "{\"role\": \"system\", \"content\": \"You are top comedian.\"},\n",
    "{\"role\": \"user\", \"content\": \"Write a one liner about a dentist\"},\n",
    "],\n",
    "temperature=0.8\n",
    ")"
   ]
  },
  {
   "cell_type": "code",
   "execution_count": null,
   "id": "805e7ce6",
   "metadata": {},
   "outputs": [],
   "source": [
    "response"
   ]
  },
  {
   "cell_type": "code",
   "execution_count": null,
   "id": "83e80622",
   "metadata": {},
   "outputs": [],
   "source": [
    "response = openai.ChatCompletion.create(\n",
    "model=\"gpt-3.5-turbo\",\n",
    "messages=[\n",
    "{\"role\": \"system\", \"content\": \"You are top comedian.\"},\n",
    "{\"role\": \"user\", \"content\": \"Write a one liner about a dentist\"},\n",
    "],\n",
    "temperature=2\n",
    ")"
   ]
  },
  {
   "cell_type": "code",
   "execution_count": null,
   "id": "a8e01386",
   "metadata": {},
   "outputs": [],
   "source": [
    "response"
   ]
  },
  {
   "cell_type": "code",
   "execution_count": null,
   "id": "c1db61bb",
   "metadata": {},
   "outputs": [],
   "source": [
    "response = openai.ChatCompletion.create(\n",
    "model=\"gpt-3.5-turbo\",\n",
    "messages=[\n",
    "{\"role\": \"system\", \"content\": \"You are an astronomer.\"},\n",
    "{\"role\": \"user\", \"content\": \"Describe the planet Jupiter\"},\n",
    "],\n",
    "frequency_penalty=-1\n",
    ")"
   ]
  },
  {
   "cell_type": "code",
   "execution_count": null,
   "id": "f8856a96",
   "metadata": {},
   "outputs": [],
   "source": []
  },
  {
   "cell_type": "code",
   "execution_count": null,
   "id": "faafbed6",
   "metadata": {},
   "outputs": [],
   "source": []
  }
 ],
 "metadata": {
  "kernelspec": {
   "display_name": "Python 3 (ipykernel)",
   "language": "python",
   "name": "python3"
  },
  "language_info": {
   "codemirror_mode": {
    "name": "ipython",
    "version": 3
   },
   "file_extension": ".py",
   "mimetype": "text/x-python",
   "name": "python",
   "nbconvert_exporter": "python",
   "pygments_lexer": "ipython3",
   "version": "3.11.3"
  }
 },
 "nbformat": 4,
 "nbformat_minor": 5
}
