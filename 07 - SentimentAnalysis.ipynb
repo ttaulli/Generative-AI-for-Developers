{
 "cells": [
  {
   "cell_type": "markdown",
   "id": "3400f464",
   "metadata": {},
   "source": [
    "# Sentiment Analysis App"
   ]
  },
  {
   "cell_type": "code",
   "execution_count": null,
   "id": "7384dc20",
   "metadata": {},
   "outputs": [],
   "source": [
    "import openai\n",
    "import os\n",
    "import csv"
   ]
  },
  {
   "cell_type": "code",
   "execution_count": null,
   "id": "98d5849d",
   "metadata": {},
   "outputs": [],
   "source": [
    "os.environ['OPENAI_API_KEY'] = ''"
   ]
  },
  {
   "cell_type": "code",
   "execution_count": null,
   "id": "6619348e",
   "metadata": {},
   "outputs": [],
   "source": [
    "openai.api_key = os.getenv('OPENAI_API_KEY')"
   ]
  },
  {
   "cell_type": "code",
   "execution_count": null,
   "id": "c4cdb85b",
   "metadata": {},
   "outputs": [],
   "source": [
    "\n",
    "def get_feedback(file_path):\n",
    "    comments= []\n",
    "    with open(file_path, 'r') as csvfile:\n",
    "        csvreader = csv.reader(csvfile)\n",
    "        next(csvreader)\n",
    "        for row in csvreader: \n",
    "            comments.append(row[0])\n",
    "    return comments    \n",
    "\n",
    "def get_sentiment(feedback):\n",
    "    response = openai.ChatCompletion.create(\n",
    "        model=\"gpt-3.5-turbo\",\n",
    "        messages=[\n",
    "            {\"role\": \"system\", \"content\": \"\"\"You are a system that determines the sentiment of comments and feedback. \\\n",
    "             Express the sentiment with either positive, negative or neutral.  Also include an emoji. Analyze the sentiment of the comment \\\n",
    "             delimited by ###.\n",
    "             \"\"\"},\n",
    "            {\"role\": \"user\", \"content\": feedback}\n",
    "        ]\n",
    "    )\n",
    "    \n",
    "    return response['choices'][0]['message']['content']\n",
    "    \n",
    "file_path = \"feedback.csv\"\n",
    "feedback = get_feedback(file_path)\n",
    "    \n",
    "for comment in feedback:\n",
    "    prompt = f\"###{comment}###\"\n",
    "    sentiment_result = get_sentiment(prompt)\n",
    "    print(f\"Comment: {comment}\")\n",
    "    print(f\"{sentiment_result}\")\n",
    "    print(\"----------------------\")\n"
   ]
  },
  {
   "cell_type": "code",
   "execution_count": null,
   "id": "98ad14fd",
   "metadata": {},
   "outputs": [],
   "source": [
    "def get_feedback(file_path):\n",
    "    comments= []\n",
    "    with open(file_path, 'r') as csvfile:\n",
    "        csvreader = csv.reader(csvfile)\n",
    "        next(csvreader)\n",
    "        for row in csvreader: \n",
    "            comments.append(row[0])\n",
    "    return comments    \n",
    "\n",
    "    \n",
    "file_path = \"feedback.csv\"\n",
    "feedback = get_feedback(file_path)\n",
    "print(feedback)"
   ]
  },
  {
   "cell_type": "code",
   "execution_count": null,
   "id": "afc4526a",
   "metadata": {},
   "outputs": [],
   "source": [
    "response = openai.ChatCompletion.create(\n",
    "    model=\"gpt-3.5-turbo\",\n",
    "        messages=[\n",
    "            {\"role\": \"system\", \"content\": \"\"\"You are a system that determines the sentiment of comments and feedback. \\\n",
    "             Express the sentiment with either postive, negative or neutral.  Also include an emoji.  Analyze the sentiment of the comment \\\n",
    "             delimited by ###.\n",
    "             \"\"\"},\n",
    "            {\"role\": \"user\", \"content\": \"### I do not like the product ###\"}\n",
    "        ]\n",
    "    )\n",
    "    \n",
    "response"
   ]
  }
 ],
 "metadata": {
  "kernelspec": {
   "display_name": "Python 3 (ipykernel)",
   "language": "python",
   "name": "python3"
  },
  "language_info": {
   "codemirror_mode": {
    "name": "ipython",
    "version": 3
   },
   "file_extension": ".py",
   "mimetype": "text/x-python",
   "name": "python",
   "nbconvert_exporter": "python",
   "pygments_lexer": "ipython3",
   "version": "3.11.3"
  }
 },
 "nbformat": 4,
 "nbformat_minor": 5
}
