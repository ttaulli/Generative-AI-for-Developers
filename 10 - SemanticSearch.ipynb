{
 "cells": [
  {
   "cell_type": "markdown",
   "id": "696924ff",
   "metadata": {},
   "source": [
    "# Semantic Search App"
   ]
  },
  {
   "cell_type": "code",
   "execution_count": null,
   "id": "4f82f9a6",
   "metadata": {},
   "outputs": [],
   "source": [
    "import openai\n",
    "import os\n",
    "import pandas as pd\n",
    "import numpy as np"
   ]
  },
  {
   "cell_type": "code",
   "execution_count": null,
   "id": "fe275706",
   "metadata": {},
   "outputs": [],
   "source": [
    "from openai.embeddings_utils import get_embedding"
   ]
  },
  {
   "cell_type": "code",
   "execution_count": null,
   "id": "9211d8f9",
   "metadata": {},
   "outputs": [],
   "source": [
    "from openai.embeddings_utils import cosine_similarity"
   ]
  },
  {
   "cell_type": "code",
   "execution_count": null,
   "id": "68e73cd3",
   "metadata": {},
   "outputs": [],
   "source": [
    "os.environ['OPENAI_API_KEY'] = ''"
   ]
  },
  {
   "cell_type": "code",
   "execution_count": null,
   "id": "14f72068",
   "metadata": {},
   "outputs": [],
   "source": [
    "openai.api_key = os.getenv('OPENAI_API_KEY')"
   ]
  },
  {
   "cell_type": "code",
   "execution_count": null,
   "id": "f3c516a6",
   "metadata": {},
   "outputs": [],
   "source": [
    "df = pd.read_csv(\"dataset.csv\")\n",
    "df"
   ]
  },
  {
   "cell_type": "code",
   "execution_count": null,
   "id": "058b0493",
   "metadata": {},
   "outputs": [],
   "source": [
    "df[\"embedding\"] = df[\"Word\"].apply(lambda x: get_embedding(x, engine=\"text-embedding-ada-002\"))"
   ]
  },
  {
   "cell_type": "code",
   "execution_count": null,
   "id": "b3ca66a8",
   "metadata": {},
   "outputs": [],
   "source": [
    "df"
   ]
  },
  {
   "cell_type": "code",
   "execution_count": null,
   "id": "c3baee4b",
   "metadata": {},
   "outputs": [],
   "source": [
    "df.to_csv(\"dataset_embeddings.csv\", index=False)"
   ]
  },
  {
   "cell_type": "code",
   "execution_count": null,
   "id": "cfe962da",
   "metadata": {},
   "outputs": [],
   "source": [
    "df = pd.read_csv(\"dataset_embeddings.csv\")\n",
    "df"
   ]
  },
  {
   "cell_type": "code",
   "execution_count": null,
   "id": "1c30c7d7",
   "metadata": {},
   "outputs": [],
   "source": [
    "df[\"embedding\"] = df[\"embedding\"].apply(eval).apply(np.array)"
   ]
  },
  {
   "cell_type": "code",
   "execution_count": null,
   "id": "3675f535",
   "metadata": {},
   "outputs": [],
   "source": [
    "search_word = input(\"Enter a a word to search: \")\n",
    "search_vector = get_embedding(search_word, engine=\"text-embedding-ada-002\")\n",
    "print(search_vector)"
   ]
  },
  {
   "cell_type": "code",
   "execution_count": null,
   "id": "8c319d10",
   "metadata": {},
   "outputs": [],
   "source": [
    "df[\"cosine\"] = df[\"embedding\"].apply(lambda x:  cosine_similarity(x, search_vector))\n",
    "df"
   ]
  },
  {
   "cell_type": "code",
   "execution_count": null,
   "id": "600cf061",
   "metadata": {},
   "outputs": [],
   "source": [
    "df = df.sort_values(\"cosine\", ascending=False)\n",
    "df"
   ]
  },
  {
   "cell_type": "code",
   "execution_count": null,
   "id": "7719e9f9",
   "metadata": {},
   "outputs": [],
   "source": [
    "#!pip install tiktoken"
   ]
  },
  {
   "cell_type": "code",
   "execution_count": null,
   "id": "d0723e5f",
   "metadata": {},
   "outputs": [],
   "source": [
    "import tiktoken"
   ]
  },
  {
   "cell_type": "code",
   "execution_count": null,
   "id": "280f9570",
   "metadata": {},
   "outputs": [],
   "source": [
    "encoding = tiktoken.get_encoding('cl100k_base')\n",
    "print(len(encoding.encode('How many tokens?')))"
   ]
  },
  {
   "cell_type": "code",
   "execution_count": null,
   "id": "71d5115f",
   "metadata": {},
   "outputs": [],
   "source": []
  },
  {
   "cell_type": "code",
   "execution_count": null,
   "id": "6d4d9273",
   "metadata": {},
   "outputs": [],
   "source": []
  },
  {
   "cell_type": "code",
   "execution_count": null,
   "id": "7df44c83",
   "metadata": {},
   "outputs": [],
   "source": []
  },
  {
   "cell_type": "code",
   "execution_count": null,
   "id": "0126f3f8",
   "metadata": {},
   "outputs": [],
   "source": []
  }
 ],
 "metadata": {
  "kernelspec": {
   "display_name": "Python 3 (ipykernel)",
   "language": "python",
   "name": "python3"
  },
  "language_info": {
   "codemirror_mode": {
    "name": "ipython",
    "version": 3
   },
   "file_extension": ".py",
   "mimetype": "text/x-python",
   "name": "python",
   "nbconvert_exporter": "python",
   "pygments_lexer": "ipython3",
   "version": "3.11.3"
  }
 },
 "nbformat": 4,
 "nbformat_minor": 5
}
