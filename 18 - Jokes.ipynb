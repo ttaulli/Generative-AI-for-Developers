{
 "cells": [
  {
   "cell_type": "markdown",
   "id": "4d99a238",
   "metadata": {},
   "source": [
    "# Jokes API"
   ]
  },
  {
   "cell_type": "code",
   "execution_count": null,
   "id": "8eb91fb7",
   "metadata": {},
   "outputs": [],
   "source": [
    "!pip install requests"
   ]
  },
  {
   "cell_type": "code",
   "execution_count": null,
   "id": "9b4b4a5f",
   "metadata": {},
   "outputs": [],
   "source": [
    "import requests"
   ]
  },
  {
   "cell_type": "code",
   "execution_count": null,
   "id": "c5ddc474",
   "metadata": {},
   "outputs": [],
   "source": [
    "url = \"https://api.chucknorris.io/jokes/random\"\n",
    "params = {\"limitTo\": \"[nerdy]\"}\n",
    "response = requests.get(url, params)\n",
    "joke = response.json()[\"value\"]\n",
    "print(joke)"
   ]
  },
  {
   "cell_type": "code",
   "execution_count": null,
   "id": "a655a9f6",
   "metadata": {},
   "outputs": [],
   "source": []
  }
 ],
 "metadata": {
  "kernelspec": {
   "display_name": "Python 3 (ipykernel)",
   "language": "python",
   "name": "python3"
  },
  "language_info": {
   "codemirror_mode": {
    "name": "ipython",
    "version": 3
   },
   "file_extension": ".py",
   "mimetype": "text/x-python",
   "name": "python",
   "nbconvert_exporter": "python",
   "pygments_lexer": "ipython3",
   "version": "3.11.3"
  }
 },
 "nbformat": 4,
 "nbformat_minor": 5
}
