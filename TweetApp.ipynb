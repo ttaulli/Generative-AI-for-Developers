{
 "cells": [
  {
   "cell_type": "code",
   "execution_count": null,
   "id": "d6b611fa",
   "metadata": {},
   "outputs": [],
   "source": [
    "import openai\n",
    "\n",
    "# Set up your OpenAI API key\n",
    "openai.api_key = ''\n",
    "\n",
    "def create_interesting_tweet(color):\n",
    "    prompt = f\"Generate an interesting tweet about the color {color}.\"\n",
    "    response = openai.Completion.create(\n",
    "        engine='text-davinci-003',\n",
    "        prompt=prompt,\n",
    "        max_tokens=100,\n",
    "        temperature=0.7,\n",
    "        n=1,\n",
    "        stop=None,\n",
    "        echo=False\n",
    "    )\n",
    "    tweet = response.choices[0].text.strip()\n",
    "    return tweet\n",
    "\n",
    "# Get the color input from the user\n",
    "color = input(\"Enter a color: \")\n",
    "\n",
    "# Generate an interesting tweet based on the color\n",
    "tweet = create_interesting_tweet(color)\n",
    "\n",
    "# Display the generated tweet\n",
    "print(f\"Generated tweet: {tweet}\")\n"
   ]
  },
  {
   "cell_type": "code",
   "execution_count": null,
   "id": "36f3d8b8",
   "metadata": {},
   "outputs": [],
   "source": []
  }
 ],
 "metadata": {
  "kernelspec": {
   "display_name": "Python 3 (ipykernel)",
   "language": "python",
   "name": "python3"
  },
  "language_info": {
   "codemirror_mode": {
    "name": "ipython",
    "version": 3
   },
   "file_extension": ".py",
   "mimetype": "text/x-python",
   "name": "python",
   "nbconvert_exporter": "python",
   "pygments_lexer": "ipython3",
   "version": "3.11.3"
  }
 },
 "nbformat": 4,
 "nbformat_minor": 5
}
