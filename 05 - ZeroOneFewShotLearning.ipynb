{
 "cells": [
  {
   "cell_type": "markdown",
   "id": "a54467a6",
   "metadata": {},
   "source": [
    "# Zero, One and Few Shot Prompting"
   ]
  },
  {
   "cell_type": "code",
   "execution_count": 1,
   "id": "a473c7bd",
   "metadata": {},
   "outputs": [],
   "source": [
    "import openai\n",
    "import os"
   ]
  },
  {
   "cell_type": "code",
   "execution_count": 2,
   "id": "3b769c39",
   "metadata": {},
   "outputs": [],
   "source": [
    "os.environ['OPENAI_API_KEY'] = ''"
   ]
  },
  {
   "cell_type": "code",
   "execution_count": 3,
   "id": "6476f1f5",
   "metadata": {},
   "outputs": [],
   "source": [
    "openai.api_key = os.getenv('OPENAI_API_KEY')"
   ]
  },
  {
   "cell_type": "code",
   "execution_count": 4,
   "id": "17855b30",
   "metadata": {},
   "outputs": [],
   "source": [
    "response = openai.ChatCompletion.create(\n",
    "model=\"gpt-3.5-turbo\",\n",
    "messages=[\n",
    "{\"role\": \"system\", \"content\": \"You understand Enligh and German.\"},\n",
    "{\"role\": \"user\", \"content\": \"\"\"\n",
    "\n",
    "Translate the sentence below into German: \\\n",
    "### /\n",
    "Hello, how are you doing today? \\\n",
    "### \\\n",
    "\n",
    "\"\"\"\n",
    " },\n",
    "],\n",
    "\n",
    ")"
   ]
  },
  {
   "cell_type": "code",
   "execution_count": 5,
   "id": "5c3fdb16",
   "metadata": {},
   "outputs": [
    {
     "data": {
      "text/plain": [
       "<OpenAIObject chat.completion id=chatcmpl-7F4Z6qJg2aP22yqoH0gSJTNWwa9ZH at 0x1a40eda35f0> JSON: {\n",
       "  \"choices\": [\n",
       "    {\n",
       "      \"finish_reason\": \"stop\",\n",
       "      \"index\": 0,\n",
       "      \"message\": {\n",
       "        \"content\": \"Hallo, wie geht es dir heute?\",\n",
       "        \"role\": \"assistant\"\n",
       "      }\n",
       "    }\n",
       "  ],\n",
       "  \"created\": 1683826824,\n",
       "  \"id\": \"chatcmpl-7F4Z6qJg2aP22yqoH0gSJTNWwa9ZH\",\n",
       "  \"model\": \"gpt-3.5-turbo-0301\",\n",
       "  \"object\": \"chat.completion\",\n",
       "  \"usage\": {\n",
       "    \"completion_tokens\": 8,\n",
       "    \"prompt_tokens\": 41,\n",
       "    \"total_tokens\": 49\n",
       "  }\n",
       "}"
      ]
     },
     "execution_count": 5,
     "metadata": {},
     "output_type": "execute_result"
    }
   ],
   "source": [
    "response"
   ]
  },
  {
   "cell_type": "code",
   "execution_count": 8,
   "id": "7a963714",
   "metadata": {},
   "outputs": [],
   "source": [
    "response = openai.ChatCompletion.create(\n",
    "model=\"gpt-3.5-turbo\",\n",
    "messages=[\n",
    "{\"role\": \"system\", \"content\": \"You understand Enligh and German.\"},\n",
    "{\"role\": \"user\", \"content\": \"\"\"\n",
    "\n",
    "Use the format below: \\\n",
    "\n",
    "### \\\n",
    "English:  The car is blue. \\\n",
    "German:  Das Auto ist blau. \\\n",
    "English:  The smartphone is expensive. \\\n",
    "German: \\\n",
    "### \\\n",
    "\n",
    "\"\"\"\n",
    " },\n",
    "],\n",
    "\n",
    ")"
   ]
  },
  {
   "cell_type": "code",
   "execution_count": 9,
   "id": "fc4a8492",
   "metadata": {},
   "outputs": [
    {
     "data": {
      "text/plain": [
       "<OpenAIObject chat.completion id=chatcmpl-7F4oixOLOsotji5wOu8T6Pfd64P5O at 0x1a40eda3950> JSON: {\n",
       "  \"choices\": [\n",
       "    {\n",
       "      \"finish_reason\": \"stop\",\n",
       "      \"index\": 0,\n",
       "      \"message\": {\n",
       "        \"content\": \"English: The car is blue. German: Das Auto ist blau.\\nEnglish: The smartphone is expensive. German: Das Smartphone ist teuer.\",\n",
       "        \"role\": \"assistant\"\n",
       "      }\n",
       "    }\n",
       "  ],\n",
       "  \"created\": 1683827792,\n",
       "  \"id\": \"chatcmpl-7F4oixOLOsotji5wOu8T6Pfd64P5O\",\n",
       "  \"model\": \"gpt-3.5-turbo-0301\",\n",
       "  \"object\": \"chat.completion\",\n",
       "  \"usage\": {\n",
       "    \"completion_tokens\": 30,\n",
       "    \"prompt_tokens\": 58,\n",
       "    \"total_tokens\": 88\n",
       "  }\n",
       "}"
      ]
     },
     "execution_count": 9,
     "metadata": {},
     "output_type": "execute_result"
    }
   ],
   "source": [
    "response"
   ]
  },
  {
   "cell_type": "code",
   "execution_count": 14,
   "id": "07f52eeb",
   "metadata": {},
   "outputs": [],
   "source": [
    "response = openai.ChatCompletion.create(\n",
    "model=\"gpt-3.5-turbo\",\n",
    "messages=[\n",
    "{\"role\": \"system\", \"content\": \"You understand Enligh and German.\"},\n",
    "{\"role\": \"user\", \"content\": \"\"\"\n",
    "\n",
    "Use the format below: \\\n",
    "\n",
    "### \\\n",
    "English:  The car is blue. \\\n",
    "German:  Das Auto ist blau. \\\n",
    "English:  The house is large \\\n",
    "German:  das haus ist groß \\\n",
    "English:  The smartphone is expensive. \\\n",
    "German: \\\n",
    "### \\\n",
    "\n",
    "\"\"\"\n",
    " },\n",
    "],\n",
    "\n",
    ")"
   ]
  },
  {
   "cell_type": "code",
   "execution_count": 15,
   "id": "68529e78",
   "metadata": {},
   "outputs": [
    {
     "data": {
      "text/plain": [
       "<OpenAIObject chat.completion id=chatcmpl-7F4u2QQ1zEjiUw8jT3YNObQZgScj8 at 0x1a40f128770> JSON: {\n",
       "  \"choices\": [\n",
       "    {\n",
       "      \"finish_reason\": \"stop\",\n",
       "      \"index\": 0,\n",
       "      \"message\": {\n",
       "        \"content\": \"English: The smartphone is expensive. German: Das Smartphone ist teuer.\",\n",
       "        \"role\": \"assistant\"\n",
       "      }\n",
       "    }\n",
       "  ],\n",
       "  \"created\": 1683828122,\n",
       "  \"id\": \"chatcmpl-7F4u2QQ1zEjiUw8jT3YNObQZgScj8\",\n",
       "  \"model\": \"gpt-3.5-turbo-0301\",\n",
       "  \"object\": \"chat.completion\",\n",
       "  \"usage\": {\n",
       "    \"completion_tokens\": 15,\n",
       "    \"prompt_tokens\": 72,\n",
       "    \"total_tokens\": 87\n",
       "  }\n",
       "}"
      ]
     },
     "execution_count": 15,
     "metadata": {},
     "output_type": "execute_result"
    }
   ],
   "source": [
    "response"
   ]
  },
  {
   "cell_type": "code",
   "execution_count": 21,
   "id": "513d27f8",
   "metadata": {},
   "outputs": [],
   "source": [
    "response = openai.ChatCompletion.create(\n",
    "model=\"gpt-3.5-turbo\",\n",
    "messages=[\n",
    "{\"role\": \"system\", \"content\": \"You understand Enligh and German.\"},\n",
    "{\"role\": \"user\", \"content\": \"English:  The car is blue.\"},\n",
    "{\"role\": \"assistant\", \"content\": \"German:  Das Auto ist blau.\"},\n",
    "{\"role\": \"user\", \"content\": \"English:  The smartphone is expensive.\"},\n",
    "],\n",
    ")"
   ]
  },
  {
   "cell_type": "code",
   "execution_count": 22,
   "id": "8df5d777",
   "metadata": {},
   "outputs": [
    {
     "data": {
      "text/plain": [
       "<OpenAIObject chat.completion id=chatcmpl-7F68Benxh3DOZCzrYlgT5L97ovIjf at 0x1a40f128fb0> JSON: {\n",
       "  \"choices\": [\n",
       "    {\n",
       "      \"finish_reason\": \"stop\",\n",
       "      \"index\": 0,\n",
       "      \"message\": {\n",
       "        \"content\": \"German: Das Smartphone ist teuer.\",\n",
       "        \"role\": \"assistant\"\n",
       "      }\n",
       "    }\n",
       "  ],\n",
       "  \"created\": 1683832843,\n",
       "  \"id\": \"chatcmpl-7F68Benxh3DOZCzrYlgT5L97ovIjf\",\n",
       "  \"model\": \"gpt-3.5-turbo-0301\",\n",
       "  \"object\": \"chat.completion\",\n",
       "  \"usage\": {\n",
       "    \"completion_tokens\": 8,\n",
       "    \"prompt_tokens\": 56,\n",
       "    \"total_tokens\": 64\n",
       "  }\n",
       "}"
      ]
     },
     "execution_count": 22,
     "metadata": {},
     "output_type": "execute_result"
    }
   ],
   "source": [
    "response"
   ]
  },
  {
   "cell_type": "code",
   "execution_count": null,
   "id": "8844a58d",
   "metadata": {},
   "outputs": [],
   "source": []
  },
  {
   "cell_type": "code",
   "execution_count": null,
   "id": "5c829fd8",
   "metadata": {},
   "outputs": [],
   "source": []
  }
 ],
 "metadata": {
  "kernelspec": {
   "display_name": "Python 3 (ipykernel)",
   "language": "python",
   "name": "python3"
  },
  "language_info": {
   "codemirror_mode": {
    "name": "ipython",
    "version": 3
   },
   "file_extension": ".py",
   "mimetype": "text/x-python",
   "name": "python",
   "nbconvert_exporter": "python",
   "pygments_lexer": "ipython3",
   "version": "3.11.3"
  }
 },
 "nbformat": 4,
 "nbformat_minor": 5
}
