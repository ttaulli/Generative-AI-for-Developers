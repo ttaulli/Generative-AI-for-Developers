{
 "cells": [
  {
   "cell_type": "markdown",
   "id": "a54467a6",
   "metadata": {},
   "source": [
    "# Zero, One and Few Shot Prompting"
   ]
  },
  {
   "cell_type": "code",
   "execution_count": null,
   "id": "a473c7bd",
   "metadata": {},
   "outputs": [],
   "source": [
    "import openai\n",
    "import os"
   ]
  },
  {
   "cell_type": "code",
   "execution_count": null,
   "id": "3b769c39",
   "metadata": {},
   "outputs": [],
   "source": [
    "os.environ['OPENAI_API_KEY'] = ''"
   ]
  },
  {
   "cell_type": "code",
   "execution_count": null,
   "id": "6476f1f5",
   "metadata": {},
   "outputs": [],
   "source": [
    "openai.api_key = os.getenv('OPENAI_API_KEY')"
   ]
  },
  {
   "cell_type": "code",
   "execution_count": null,
   "id": "17855b30",
   "metadata": {},
   "outputs": [],
   "source": [
    "response = openai.ChatCompletion.create(\n",
    "model=\"gpt-3.5-turbo\",\n",
    "messages=[\n",
    "{\"role\": \"system\", \"content\": \"You understand Enligh and German.\"},\n",
    "{\"role\": \"user\", \"content\": \"\"\"\n",
    "\n",
    "Translate the sentence below into German: \\\n",
    "### /\n",
    "Hello, how are you doing today? \\\n",
    "### \\\n",
    "\n",
    "\"\"\"\n",
    " },\n",
    "],\n",
    "\n",
    ")"
   ]
  },
  {
   "cell_type": "code",
   "execution_count": null,
   "id": "5c3fdb16",
   "metadata": {},
   "outputs": [],
   "source": [
    "response"
   ]
  },
  {
   "cell_type": "code",
   "execution_count": null,
   "id": "7a963714",
   "metadata": {},
   "outputs": [],
   "source": [
    "response = openai.ChatCompletion.create(\n",
    "model=\"gpt-3.5-turbo\",\n",
    "messages=[\n",
    "{\"role\": \"system\", \"content\": \"You understand Enligh and German.\"},\n",
    "{\"role\": \"user\", \"content\": \"\"\"\n",
    "\n",
    "Use the format below: \\\n",
    "\n",
    "### \\\n",
    "English:  The car is blue. \\\n",
    "German:  Das Auto ist blau. \\\n",
    "English:  The smartphone is expensive. \\\n",
    "German: \\\n",
    "### \\\n",
    "\n",
    "\"\"\"\n",
    " },\n",
    "],\n",
    "\n",
    ")"
   ]
  },
  {
   "cell_type": "code",
   "execution_count": null,
   "id": "fc4a8492",
   "metadata": {},
   "outputs": [],
   "source": [
    "response"
   ]
  },
  {
   "cell_type": "code",
   "execution_count": null,
   "id": "07f52eeb",
   "metadata": {},
   "outputs": [],
   "source": [
    "response = openai.ChatCompletion.create(\n",
    "model=\"gpt-3.5-turbo\",\n",
    "messages=[\n",
    "{\"role\": \"system\", \"content\": \"You understand Enligh and German.\"},\n",
    "{\"role\": \"user\", \"content\": \"\"\"\n",
    "\n",
    "Use the format below: \\\n",
    "\n",
    "### \\\n",
    "English:  The car is blue. \\\n",
    "German:  Das Auto ist blau. \\\n",
    "English:  The house is large \\\n",
    "German:  das haus ist groß \\\n",
    "English:  The smartphone is expensive. \\\n",
    "German: \\\n",
    "### \\\n",
    "\n",
    "\"\"\"\n",
    " },\n",
    "],\n",
    "\n",
    ")"
   ]
  },
  {
   "cell_type": "code",
   "execution_count": null,
   "id": "68529e78",
   "metadata": {},
   "outputs": [],
   "source": [
    "response"
   ]
  },
  {
   "cell_type": "code",
   "execution_count": null,
   "id": "513d27f8",
   "metadata": {},
   "outputs": [],
   "source": [
    "response = openai.ChatCompletion.create(\n",
    "model=\"gpt-3.5-turbo\",\n",
    "messages=[\n",
    "{\"role\": \"system\", \"content\": \"You understand Enligh and German.\"},\n",
    "{\"role\": \"user\", \"content\": \"English:  The car is blue.\"},\n",
    "{\"role\": \"assistant\", \"content\": \"German:  Das Auto ist blau.\"},\n",
    "{\"role\": \"user\", \"content\": \"English:  The smartphone is expensive.\"},\n",
    "],\n",
    ")"
   ]
  },
  {
   "cell_type": "code",
   "execution_count": null,
   "id": "8df5d777",
   "metadata": {},
   "outputs": [],
   "source": [
    "response"
   ]
  },
  {
   "cell_type": "code",
   "execution_count": null,
   "id": "8844a58d",
   "metadata": {},
   "outputs": [],
   "source": []
  },
  {
   "cell_type": "code",
   "execution_count": null,
   "id": "5c829fd8",
   "metadata": {},
   "outputs": [],
   "source": []
  }
 ],
 "metadata": {
  "kernelspec": {
   "display_name": "Python 3 (ipykernel)",
   "language": "python",
   "name": "python3"
  },
  "language_info": {
   "codemirror_mode": {
    "name": "ipython",
    "version": 3
   },
   "file_extension": ".py",
   "mimetype": "text/x-python",
   "name": "python",
   "nbconvert_exporter": "python",
   "pygments_lexer": "ipython3",
   "version": "3.11.3"
  }
 },
 "nbformat": 4,
 "nbformat_minor": 5
}
