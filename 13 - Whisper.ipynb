{
 "cells": [
  {
   "cell_type": "markdown",
   "id": "55883838",
   "metadata": {},
   "source": [
    "# Whisper API"
   ]
  },
  {
   "cell_type": "code",
   "execution_count": null,
   "id": "6a1263c6",
   "metadata": {},
   "outputs": [],
   "source": [
    "import openai\n",
    "import os"
   ]
  },
  {
   "cell_type": "code",
   "execution_count": null,
   "id": "35125f18",
   "metadata": {},
   "outputs": [],
   "source": [
    "os.environ['OPENAI_API_KEY'] = ''"
   ]
  },
  {
   "cell_type": "code",
   "execution_count": null,
   "id": "dab09980",
   "metadata": {},
   "outputs": [],
   "source": [
    "openai.api_key = os.getenv('OPENAI_API_KEY')"
   ]
  },
  {
   "cell_type": "code",
   "execution_count": null,
   "id": "a3c54201",
   "metadata": {},
   "outputs": [],
   "source": [
    "whisper_file = open(\"sample.mp4\",\"rb\")\n",
    "\n",
    "transcript = openai.Audio.transcribe(\"whisper-1\", whisper_file)"
   ]
  },
  {
   "cell_type": "code",
   "execution_count": null,
   "id": "615749b3",
   "metadata": {},
   "outputs": [],
   "source": [
    "print(transcript[\"text\"])"
   ]
  },
  {
   "cell_type": "code",
   "execution_count": null,
   "id": "75258c80",
   "metadata": {},
   "outputs": [],
   "source": [
    "response = openai.ChatCompletion.create(\n",
    "model='gpt-3.5-turbo',\n",
    "messages=[\n",
    "{'role':'system','content':'You are good at summarizing information.'},\n",
    "{'role':'user','content':f\"Summarize the the text delimited by ###. Provide as bullet points: ###{transcript['text']}###\"}\n",
    "])"
   ]
  },
  {
   "cell_type": "code",
   "execution_count": null,
   "id": "ec54d9e8",
   "metadata": {},
   "outputs": [],
   "source": [
    "print(response)"
   ]
  },
  {
   "cell_type": "code",
   "execution_count": null,
   "id": "84085a85",
   "metadata": {},
   "outputs": [],
   "source": []
  },
  {
   "cell_type": "code",
   "execution_count": null,
   "id": "9fc2b84b",
   "metadata": {},
   "outputs": [],
   "source": []
  }
 ],
 "metadata": {
  "kernelspec": {
   "display_name": "Python 3 (ipykernel)",
   "language": "python",
   "name": "python3"
  },
  "language_info": {
   "codemirror_mode": {
    "name": "ipython",
    "version": 3
   },
   "file_extension": ".py",
   "mimetype": "text/x-python",
   "name": "python",
   "nbconvert_exporter": "python",
   "pygments_lexer": "ipython3",
   "version": "3.11.3"
  }
 },
 "nbformat": 4,
 "nbformat_minor": 5
}
