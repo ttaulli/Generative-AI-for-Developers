{
 "cells": [
  {
   "cell_type": "markdown",
   "id": "55883838",
   "metadata": {},
   "source": [
    "# Whisper API"
   ]
  },
  {
   "cell_type": "code",
   "execution_count": 1,
   "id": "6a1263c6",
   "metadata": {},
   "outputs": [],
   "source": [
    "import openai\n",
    "import os"
   ]
  },
  {
   "cell_type": "code",
   "execution_count": 2,
   "id": "35125f18",
   "metadata": {},
   "outputs": [],
   "source": [
    "os.environ['OPENAI_API_KEY'] = ''"
   ]
  },
  {
   "cell_type": "code",
   "execution_count": 3,
   "id": "dab09980",
   "metadata": {},
   "outputs": [],
   "source": [
    "openai.api_key = os.getenv('OPENAI_API_KEY')"
   ]
  },
  {
   "cell_type": "code",
   "execution_count": 5,
   "id": "a3c54201",
   "metadata": {},
   "outputs": [],
   "source": [
    "whisper_file = open(\"trailer.m4a\",\"rb\")\n",
    "\n",
    "transcript = openai.Audio.transcribe(\"whisper-1\", whisper_file)"
   ]
  },
  {
   "cell_type": "code",
   "execution_count": 6,
   "id": "615749b3",
   "metadata": {},
   "outputs": [
    {
     "name": "stdout",
     "output_type": "stream",
     "text": [
      "Hello everyone, my name is Tom Talley. Welcome to my course, Cobol Big Picture. I'm a mainframe developer and the author of the book, Modern Mainframe Development. Cobol is actually one of the most widely used languages. It powers some of the world's largest businesses, such as with handling inventory, the financials, and HR. For example, when you use a credit card, make a reservation for an airline, or even buy a smartphone, the chances are good that this transaction was made through a mainframe. This course is a quick high-level introduction to the Cobol language, looking at the diverse applications and rich ecosystem. There is also no experience required. Some of the major topics that we'll cover include how mainframes work and what Cobol does with these powerful machines. Evaluate some of the growth drivers for this important language. Understand the main capabilities of Cobol, such as with its structure, variables, file handling, and sophisticated reporting. Learn about the databases that connect to Cobol, like IMS and DB2. Consider some of the other mainframe languages like Assembler and PL1. Look at the emerging technologies that work with Cobol, such as Zoe. This allows you to use modern tools like VS Code to work directly with the mainframe. By the end of this course, you'll have an understanding of the core fundamentals of the Cobol language. You'll also see how the language is used, the pros and cons, and how this technology can help businesses grow and improve. I hope you'll join me on this journey to learn about the Cobol Big Picture course here at Pluralsight.\n"
     ]
    }
   ],
   "source": [
    "print(transcript[\"text\"])"
   ]
  },
  {
   "cell_type": "code",
   "execution_count": 7,
   "id": "75258c80",
   "metadata": {},
   "outputs": [],
   "source": [
    "response = openai.ChatCompletion.create(\n",
    "model='gpt-3.5-turbo',\n",
    "messages=[\n",
    "{'role':'system','content':'You are good at summarizing information.'},\n",
    "{'role':'user','content':f\"Summarize the the text delimited by ###.  Provide this as bullet points:  ###{transcript['text']}###\"}\n",
    "])"
   ]
  },
  {
   "cell_type": "code",
   "execution_count": 8,
   "id": "ec54d9e8",
   "metadata": {},
   "outputs": [
    {
     "name": "stdout",
     "output_type": "stream",
     "text": [
      "{\n",
      "  \"choices\": [\n",
      "    {\n",
      "      \"finish_reason\": \"stop\",\n",
      "      \"index\": 0,\n",
      "      \"message\": {\n",
      "        \"content\": \"- Cobol is a widely used language in mainframe development.\\n- It powers large businesses in handling inventory, financials, and HR.\\n- This course is a quick high-level introduction to Cobol language and its applications.\\n- No experience required to take this course.\\n- The major topics covered include understanding how mainframes work, evaluating growth drivers for Cobol, understanding Cobol's main capabilities, understanding databases that connect to Cobol, considering other mainframe languages, and looking at emerging technologies that work with Cobol.\\n- By the end of the course, students will have an understanding of the core fundamentals of the Cobol language and its pros and cons.\",\n",
      "        \"role\": \"assistant\"\n",
      "      }\n",
      "    }\n",
      "  ],\n",
      "  \"created\": 1684959472,\n",
      "  \"id\": \"chatcmpl-7JpDcmBn5M04B2l4dZRCLSD1rFpWJ\",\n",
      "  \"model\": \"gpt-3.5-turbo-0301\",\n",
      "  \"object\": \"chat.completion\",\n",
      "  \"usage\": {\n",
      "    \"completion_tokens\": 133,\n",
      "    \"prompt_tokens\": 376,\n",
      "    \"total_tokens\": 509\n",
      "  }\n",
      "}\n"
     ]
    }
   ],
   "source": [
    "print(response)"
   ]
  },
  {
   "cell_type": "code",
   "execution_count": null,
   "id": "84085a85",
   "metadata": {},
   "outputs": [],
   "source": []
  },
  {
   "cell_type": "code",
   "execution_count": null,
   "id": "9fc2b84b",
   "metadata": {},
   "outputs": [],
   "source": []
  }
 ],
 "metadata": {
  "kernelspec": {
   "display_name": "Python 3 (ipykernel)",
   "language": "python",
   "name": "python3"
  },
  "language_info": {
   "codemirror_mode": {
    "name": "ipython",
    "version": 3
   },
   "file_extension": ".py",
   "mimetype": "text/x-python",
   "name": "python",
   "nbconvert_exporter": "python",
   "pygments_lexer": "ipython3",
   "version": "3.11.3"
  }
 },
 "nbformat": 4,
 "nbformat_minor": 5
}
