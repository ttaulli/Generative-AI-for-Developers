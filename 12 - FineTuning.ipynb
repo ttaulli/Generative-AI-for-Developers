{
 "cells": [
  {
   "cell_type": "markdown",
   "id": "d6357a54",
   "metadata": {},
   "source": [
    "# Fine Tuning"
   ]
  },
  {
   "cell_type": "code",
   "execution_count": null,
   "id": "caa90f78",
   "metadata": {},
   "outputs": [],
   "source": [
    "import openai\n",
    "import os\n",
    "import pandas as pd\n",
    "import json"
   ]
  },
  {
   "cell_type": "code",
   "execution_count": null,
   "id": "23338d01",
   "metadata": {},
   "outputs": [],
   "source": [
    "os.environ['OPENAI_API_KEY'] = ''"
   ]
  },
  {
   "cell_type": "code",
   "execution_count": null,
   "id": "d19e1e41",
   "metadata": {},
   "outputs": [],
   "source": [
    "openai.api_key = os.getenv('OPENAI_API_KEY')"
   ]
  },
  {
   "cell_type": "code",
   "execution_count": null,
   "id": "632e9a2e",
   "metadata": {},
   "outputs": [],
   "source": [
    "# {\"prompt\": \"<prompt text>\", \"completion\": \"<completion text>\"}\n",
    "# {\"prompt\": \"<prompt text>\", \"completion\": \"<completion text>\"}\n"
   ]
  },
  {
   "cell_type": "code",
   "execution_count": null,
   "id": "ce43625e",
   "metadata": {},
   "outputs": [],
   "source": [
    "training_data = pd.read_csv(\"training_data.csv\")"
   ]
  },
  {
   "cell_type": "code",
   "execution_count": null,
   "id": "d0c8d36e",
   "metadata": {},
   "outputs": [],
   "source": [
    "training_data"
   ]
  },
  {
   "cell_type": "code",
   "execution_count": null,
   "id": "d0e6ac3d",
   "metadata": {},
   "outputs": [],
   "source": [
    "prompts = training_data[\"Prompt\"]"
   ]
  },
  {
   "cell_type": "code",
   "execution_count": null,
   "id": "743cbd6f",
   "metadata": {},
   "outputs": [],
   "source": [
    "completions = training_data['Completion']"
   ]
  },
  {
   "cell_type": "code",
   "execution_count": null,
   "id": "00c89fc6",
   "metadata": {},
   "outputs": [],
   "source": [
    "prompts"
   ]
  },
  {
   "cell_type": "code",
   "execution_count": null,
   "id": "06ae51f9",
   "metadata": {},
   "outputs": [],
   "source": [
    "completions"
   ]
  },
  {
   "cell_type": "code",
   "execution_count": null,
   "id": "1b6243c5",
   "metadata": {},
   "outputs": [],
   "source": [
    "json_format = [{\"prompt\":prompt,\"completion\":completion} for prompt,completion in zip(prompts,completions)]"
   ]
  },
  {
   "cell_type": "code",
   "execution_count": null,
   "id": "6e4fb324",
   "metadata": {},
   "outputs": [],
   "source": [
    "json_format[1]"
   ]
  },
  {
   "cell_type": "code",
   "execution_count": null,
   "id": "df3ba660",
   "metadata": {},
   "outputs": [],
   "source": [
    "with open(\"training_data.json\", \"w\") as f:\n",
    "    for item in json_format:\n",
    "        f.write(json.dumps(item))\n",
    "        f.write('\\n')"
   ]
  },
  {
   "cell_type": "code",
   "execution_count": null,
   "id": "46e79e6d",
   "metadata": {},
   "outputs": [],
   "source": [
    "openai_model = \"ada:ft-personal-2023-06-16-15-08-13\""
   ]
  },
  {
   "cell_type": "code",
   "execution_count": null,
   "id": "8d8224da",
   "metadata": {},
   "outputs": [],
   "source": [
    "response = openai.Completion.create(\n",
    "model=openai_model,\n",
    "prompt=\"Not too thrilled with the blog ->\",\n",
    "    max_tokens=1,\n",
    "    temperature=0\n",
    ")\n",
    "\n",
    "print(response)"
   ]
  },
  {
   "cell_type": "code",
   "execution_count": null,
   "id": "ae908dcf",
   "metadata": {},
   "outputs": [],
   "source": []
  },
  {
   "cell_type": "code",
   "execution_count": null,
   "id": "acca199f",
   "metadata": {},
   "outputs": [],
   "source": []
  },
  {
   "cell_type": "code",
   "execution_count": null,
   "id": "32abca12",
   "metadata": {},
   "outputs": [],
   "source": []
  },
  {
   "cell_type": "code",
   "execution_count": null,
   "id": "1cbdec17",
   "metadata": {},
   "outputs": [],
   "source": []
  }
 ],
 "metadata": {
  "kernelspec": {
   "display_name": "Python 3 (ipykernel)",
   "language": "python",
   "name": "python3"
  },
  "language_info": {
   "codemirror_mode": {
    "name": "ipython",
    "version": 3
   },
   "file_extension": ".py",
   "mimetype": "text/x-python",
   "name": "python",
   "nbconvert_exporter": "python",
   "pygments_lexer": "ipython3",
   "version": "3.11.3"
  }
 },
 "nbformat": 4,
 "nbformat_minor": 5
}
